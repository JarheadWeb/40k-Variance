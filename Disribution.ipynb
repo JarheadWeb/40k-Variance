{
 "cells": [
  {
   "cell_type": "code",
   "execution_count": 1,
   "metadata": {
    "collapsed": false
   },
   "outputs": [],
   "source": [
    "import random\n",
    "import matplotlib\n",
    "from timeit import default_timer as timer\n",
    "\n",
    "start = timer()\n"
   ]
  },
  {
   "cell_type": "code",
   "execution_count": 13,
   "metadata": {
    "collapsed": true
   },
   "outputs": [],
   "source": [
    "weapon_platform=\"Exocorine\"\n",
    "shoot_bs=3\n",
    "shoot_str=7\n",
    "shoot_d=6\n",
    "shoot_ap=3\n",
    "shoot_shots=12\n",
    "\n",
    "mortal_on_6=False      #True or False\n",
    "\n",
    "target=\"Squad of Terminators\"\n",
    "targ_t=4\n",
    "targ_arm=2\n",
    "targ_invul=5           #Set 7 for none\n",
    "targ_fnp=7             #Set 7 for none\n",
    "targ_wounds=10\n",
    "\n",
    "targ_saves=[targ_arm+shoot_ap,targ_invul,targ_fnp]\n",
    "\n",
    "tests=100000\n",
    "\n"
   ]
  },
  {
   "cell_type": "code",
   "execution_count": 3,
   "metadata": {
    "collapsed": true
   },
   "outputs": [],
   "source": [
    "def wound(shoot_str,targ_t):\n",
    "    s=shoot_str\n",
    "    t=targ_t\n",
    "    \n",
    "    if 2*s<=t:\n",
    "        w=6\n",
    "    elif s<t:\n",
    "        w=5\n",
    "    elif s==t:\n",
    "        w=4\n",
    "    elif s>=t*2:\n",
    "        w=2\n",
    "    else:\n",
    "        w=3\n",
    "    return w\n",
    "\n",
    "def dice(high=6):\n",
    "    return (random.randint(1,high))"
   ]
  },
  {
   "cell_type": "code",
   "execution_count": 4,
   "metadata": {
    "collapsed": false
   },
   "outputs": [],
   "source": [
    "shoot_wound=wound(shoot_str,targ_t)"
   ]
  },
  {
   "cell_type": "code",
   "execution_count": 5,
   "metadata": {
    "collapsed": true
   },
   "outputs": [],
   "source": [
    "damage_list=[0]\n",
    "damage_all=[]"
   ]
  },
  {
   "cell_type": "code",
   "execution_count": 6,
   "metadata": {
    "collapsed": false
   },
   "outputs": [],
   "source": [
    "for i in range(1,tests+1):\n",
    "    shots=shoot_shots\n",
    "    d_phase=[]\n",
    "    d_phase_list=[]\n",
    "    for i in range(shots):\n",
    "        if dice()>=shoot_bs:\n",
    "            dice_w=dice()\n",
    "            if dice_w>=shoot_wound:\n",
    "                if dice()<(min(targ_saves)):           #Target Save\n",
    "                    damage=2          #Change Damage here normal is =dice() for 1d6\n",
    "                    d_phase_list.append(damage)\n",
    "                    d_phase.append(damage)\n",
    "                else:\n",
    "                    d_phase.append(0)\n",
    "            if dice_w==6 and mortal_on_6:\n",
    "                \n",
    "                if dice()<(targ_fnp):                  #Target Save against MW\n",
    "                    damage=dice(3)                     #Add static mortal wound Damage here instead of dice()\n",
    "                    d_phase_list.append(damage)\n",
    "                    d_phase.append(damage)\n",
    "                else:\n",
    "                    d_phase.append(0)\n",
    "                \n",
    "            else:\n",
    "                d_phase.append(0)\n",
    "        else:\n",
    "            d_phase.append(0)\n",
    "           \n",
    "    if (sum(d_phase_list)) not in damage_list:\n",
    "        damage_list.append(sum(d_phase_list))\n",
    "    damage_all.append(sum(d_phase))"
   ]
  },
  {
   "cell_type": "code",
   "execution_count": 7,
   "metadata": {
    "collapsed": false
   },
   "outputs": [
    {
     "name": "stdout",
     "output_type": "stream",
     "text": [
      "[0, 2, 4, 6, 8, 10, 12, 14, 16, 18, 20, 22, 24]\n"
     ]
    }
   ],
   "source": [
    "damage_list.sort()\n",
    "damage_all.sort()\n",
    "print (damage_list)\n",
    "#print (damage_all)"
   ]
  },
  {
   "cell_type": "code",
   "execution_count": 8,
   "metadata": {
    "collapsed": false
   },
   "outputs": [
    {
     "name": "stdout",
     "output_type": "stream",
     "text": [
      "100000\n",
      "[1.517, 7.66, 17.238999999999997, 24.177, 22.731, 15.421999999999999, 7.566000000000001, 2.826, 0.728, 0.11800000000000001, 0.012, 0.003, 0.001]\n"
     ]
    }
   ],
   "source": [
    "values=[]\n",
    "chance=[]\n",
    "for i in damage_list:\n",
    "    values.append(damage_all.count(i))\n",
    "    chance.append(damage_all.count(i)/(tests)*100)\n",
    "print (sum(values))\n",
    "print (chance)"
   ]
  },
  {
   "cell_type": "code",
   "execution_count": 21,
   "metadata": {
    "collapsed": false
   },
   "outputs": [
    {
     "data": {
      "text/plain": [
       "<matplotlib.text.Text at 0x27940ca8898>"
      ]
     },
     "execution_count": 21,
     "metadata": {},
     "output_type": "execute_result"
    }
   ],
   "source": [
    "import matplotlib.pyplot as plt\n",
    "import numpy as np\n",
    "y_pos = np.arange(len(damage_list))\n",
    "\n",
    "plt.bar(y_pos, chance, align='center')\n",
    "\n",
    "plt.xticks(y_pos, damage_list)\n",
    "plt.ylabel('Probability')\n",
    "plt.title(weapon_platform +\" Shooting at \"+ target)"
   ]
  },
  {
   "cell_type": "code",
   "execution_count": 22,
   "metadata": {
    "collapsed": false
   },
   "outputs": [],
   "source": [
    "kill_chance=0\n",
    "for i in range(len(damage_list)):\n",
    "    if damage_list[i]>=targ_wounds:\n",
    "        kill_chance+=chance[i]"
   ]
  },
  {
   "cell_type": "code",
   "execution_count": 24,
   "metadata": {
    "collapsed": false
   },
   "outputs": [
    {
     "name": "stdout",
     "output_type": "stream",
     "text": [
      "\n",
      "\n",
      " Mean:  7.09864 \n",
      " Median:  6.0\n",
      " Max Chance:  24.177 6\n",
      " Chance to kill in phase:  26.676000000000002\n"
     ]
    }
   ],
   "source": [
    "plt.show()\n",
    "print ()\n",
    "print ('\\n',\"Mean: \", np.mean(damage_all),'\\n', \"Median: \", np.median(damage_all))\n",
    "print (      \" Max Chance: \", max(chance), damage_list[np.argmax(chance)])\n",
    "print (\" Chance to kill in phase: \", kill_chance)"
   ]
  },
  {
   "cell_type": "code",
   "execution_count": 25,
   "metadata": {
    "collapsed": false
   },
   "outputs": [
    {
     "name": "stdout",
     "output_type": "stream",
     "text": [
      "94.3022584671306\n"
     ]
    }
   ],
   "source": [
    "end = timer()\n",
    "print(end - start)"
   ]
  },
  {
   "cell_type": "code",
   "execution_count": null,
   "metadata": {
    "collapsed": false
   },
   "outputs": [],
   "source": []
  },
  {
   "cell_type": "code",
   "execution_count": null,
   "metadata": {
    "collapsed": true
   },
   "outputs": [],
   "source": []
  }
 ],
 "metadata": {
  "kernelspec": {
   "display_name": "Python 3",
   "language": "python",
   "name": "python3"
  },
  "language_info": {
   "codemirror_mode": {
    "name": "ipython",
    "version": 3
   },
   "file_extension": ".py",
   "mimetype": "text/x-python",
   "name": "python",
   "nbconvert_exporter": "python",
   "pygments_lexer": "ipython3",
   "version": "3.6.0"
  }
 },
 "nbformat": 4,
 "nbformat_minor": 2
}
